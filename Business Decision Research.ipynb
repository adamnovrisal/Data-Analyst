{
 "cells": [
  {
   "cell_type": "markdown",
   "metadata": {},
   "source": [
    "# Import library dan data"
   ]
  },
  {
   "cell_type": "code",
   "execution_count": 1,
   "metadata": {
    "scrolled": true
   },
   "outputs": [
    {
     "name": "stdout",
     "output_type": "stream",
     "text": [
      "Lima data teratas:\n",
      "   no  Row_Num  Customer_ID Product  First_Transaction  Last_Transaction  \\\n",
      "0   1        1        29531   Jaket      1466304274396     1538718482608   \n",
      "1   2        2        29531  Sepatu      1406077331494     1545735761270   \n",
      "2   3        3       141526     Tas      1493349147000     1548322802000   \n",
      "3   4        4       141526   Jaket      1493362372547     1547643603911   \n",
      "4   5        5        37545  Sepatu      1429178498531     1542891221530   \n",
      "\n",
      "   Average_Transaction_Amount  Count_Transaction  \n",
      "0                     1467681                 22  \n",
      "1                     1269337                 41  \n",
      "2                      310915                 30  \n",
      "3                      722632                 27  \n",
      "4                     1775036                 25  \n",
      "\n",
      "Info dataset:\n",
      "<class 'pandas.core.frame.DataFrame'>\n",
      "RangeIndex: 100000 entries, 0 to 99999\n",
      "Data columns (total 8 columns):\n",
      " #   Column                      Non-Null Count   Dtype \n",
      "---  ------                      --------------   ----- \n",
      " 0   no                          100000 non-null  int64 \n",
      " 1   Row_Num                     100000 non-null  int64 \n",
      " 2   Customer_ID                 100000 non-null  int64 \n",
      " 3   Product                     100000 non-null  object\n",
      " 4   First_Transaction           100000 non-null  int64 \n",
      " 5   Last_Transaction            100000 non-null  int64 \n",
      " 6   Average_Transaction_Amount  100000 non-null  int64 \n",
      " 7   Count_Transaction           100000 non-null  int64 \n",
      "dtypes: int64(7), object(1)\n",
      "memory usage: 6.1+ MB\n",
      "None\n"
     ]
    }
   ],
   "source": [
    "import pandas as pd\n",
    "\n",
    "df = pd.read_csv('https://dqlab-dataset.s3-ap-southeast-1.amazonaws.com/data_retail.csv', sep=';')\n",
    "\n",
    "print('Lima data teratas:')\n",
    "print(df.head())\n",
    "\n",
    "print('\\nInfo dataset:')\n",
    "print(df.info())"
   ]
  },
  {
   "cell_type": "markdown",
   "metadata": {},
   "source": [
    "# Data Cleansing"
   ]
  },
  {
   "cell_type": "code",
   "execution_count": 2,
   "metadata": {
    "scrolled": true
   },
   "outputs": [
    {
     "name": "stdout",
     "output_type": "stream",
     "text": [
      "Lima data teratas:\n",
      "   no  Row_Num  Customer_ID Product             First_Transaction  \\\n",
      "0   1        1        29531   Jaket 2016-06-19 02:44:34.395999908   \n",
      "1   2        2        29531  Sepatu 2014-07-23 01:02:11.493999958   \n",
      "2   3        3       141526     Tas 2017-04-28 03:12:27.000000000   \n",
      "3   4        4       141526   Jaket 2017-04-28 06:52:52.546999931   \n",
      "4   5        5        37545  Sepatu 2015-04-16 10:01:38.530999899   \n",
      "\n",
      "               Last_Transaction  Average_Transaction_Amount  Count_Transaction  \n",
      "0 2018-10-05 05:48:02.608000040                     1467681                 22  \n",
      "1 2018-12-25 11:02:41.269999981                     1269337                 41  \n",
      "2 2019-01-24 09:40:02.000000000                      310915                 30  \n",
      "3 2019-01-16 13:00:03.911000013                      722632                 27  \n",
      "4 2018-11-22 12:53:41.529999970                     1775036                 25  \n",
      "\n",
      "Info dataset:\n",
      "<class 'pandas.core.frame.DataFrame'>\n",
      "RangeIndex: 100000 entries, 0 to 99999\n",
      "Data columns (total 8 columns):\n",
      " #   Column                      Non-Null Count   Dtype         \n",
      "---  ------                      --------------   -----         \n",
      " 0   no                          100000 non-null  int64         \n",
      " 1   Row_Num                     100000 non-null  int64         \n",
      " 2   Customer_ID                 100000 non-null  int64         \n",
      " 3   Product                     100000 non-null  object        \n",
      " 4   First_Transaction           100000 non-null  datetime64[ns]\n",
      " 5   Last_Transaction            100000 non-null  datetime64[ns]\n",
      " 6   Average_Transaction_Amount  100000 non-null  int64         \n",
      " 7   Count_Transaction           100000 non-null  int64         \n",
      "dtypes: datetime64[ns](2), int64(5), object(1)\n",
      "memory usage: 6.1+ MB\n",
      "None\n"
     ]
    }
   ],
   "source": [
    "# Kolom First_Transaction\n",
    "df['First_Transaction'] = pd.to_datetime(df['First_Transaction']/1000, unit='s', origin='1970-01-01')\n",
    "# Kolom Last_Transaction\n",
    "df['Last_Transaction'] = pd.to_datetime(df['Last_Transaction']/1000, unit='s', origin='1970-01-01')\n",
    "\n",
    "print('Lima data teratas:')\n",
    "print(df.head())\n",
    "\n",
    "print('\\nInfo dataset:')\n",
    "print(df.info())"
   ]
  },
  {
   "cell_type": "markdown",
   "metadata": {},
   "source": [
    "# Churn Customers"
   ]
  },
  {
   "cell_type": "code",
   "execution_count": 3,
   "metadata": {
    "scrolled": true
   },
   "outputs": [
    {
     "name": "stdout",
     "output_type": "stream",
     "text": [
      "2019-02-01 23:57:57.286000013\n",
      "Lima data teratas:\n",
      "   no  Row_Num  Customer_ID Product             First_Transaction  \\\n",
      "0   1        1        29531   Jaket 2016-06-19 02:44:34.395999908   \n",
      "1   2        2        29531  Sepatu 2014-07-23 01:02:11.493999958   \n",
      "2   3        3       141526     Tas 2017-04-28 03:12:27.000000000   \n",
      "3   4        4       141526   Jaket 2017-04-28 06:52:52.546999931   \n",
      "4   5        5        37545  Sepatu 2015-04-16 10:01:38.530999899   \n",
      "\n",
      "               Last_Transaction  Average_Transaction_Amount  \\\n",
      "0 2018-10-05 05:48:02.608000040                     1467681   \n",
      "1 2018-12-25 11:02:41.269999981                     1269337   \n",
      "2 2019-01-24 09:40:02.000000000                      310915   \n",
      "3 2019-01-16 13:00:03.911000013                      722632   \n",
      "4 2018-11-22 12:53:41.529999970                     1775036   \n",
      "\n",
      "   Count_Transaction is_churn  \n",
      "0                 22    False  \n",
      "1                 41    False  \n",
      "2                 30    False  \n",
      "3                 27    False  \n",
      "4                 25    False  \n",
      "\n",
      "Info dataset:\n",
      "<class 'pandas.core.frame.DataFrame'>\n",
      "RangeIndex: 100000 entries, 0 to 99999\n",
      "Data columns (total 9 columns):\n",
      " #   Column                      Non-Null Count   Dtype         \n",
      "---  ------                      --------------   -----         \n",
      " 0   no                          100000 non-null  int64         \n",
      " 1   Row_Num                     100000 non-null  int64         \n",
      " 2   Customer_ID                 100000 non-null  int64         \n",
      " 3   Product                     100000 non-null  object        \n",
      " 4   First_Transaction           100000 non-null  datetime64[ns]\n",
      " 5   Last_Transaction            100000 non-null  datetime64[ns]\n",
      " 6   Average_Transaction_Amount  100000 non-null  int64         \n",
      " 7   Count_Transaction           100000 non-null  int64         \n",
      " 8   is_churn                    100000 non-null  object        \n",
      "dtypes: datetime64[ns](2), int64(5), object(2)\n",
      "memory usage: 6.9+ MB\n",
      "None\n"
     ]
    }
   ],
   "source": [
    "# Pengecekan transaksaksi terakhir dalam dataset\n",
    "print(max(df['Last_Transaction']))\n",
    "\n",
    "# Klasifikasikan customer yang berstatus churn atau tidak dengan boolean\n",
    "df.loc[df['Last_Transaction']<='2018-08-01', 'is_churn'] = True \n",
    "df.loc[df['Last_Transaction']>'2018-08-01', 'is_churn'] = False\n",
    "\n",
    "print('Lima data teratas:')\n",
    "print(df.head())\n",
    "\n",
    "print('\\nInfo dataset:')\n",
    "print(df.info())"
   ]
  },
  {
   "cell_type": "markdown",
   "metadata": {},
   "source": [
    "# Menghapus Kolom yang tidak digunakan"
   ]
  },
  {
   "cell_type": "code",
   "execution_count": 4,
   "metadata": {
    "scrolled": false
   },
   "outputs": [
    {
     "name": "stdout",
     "output_type": "stream",
     "text": [
      "   Customer_ID Product             First_Transaction  \\\n",
      "0        29531   Jaket 2016-06-19 02:44:34.395999908   \n",
      "1        29531  Sepatu 2014-07-23 01:02:11.493999958   \n",
      "2       141526     Tas 2017-04-28 03:12:27.000000000   \n",
      "3       141526   Jaket 2017-04-28 06:52:52.546999931   \n",
      "4        37545  Sepatu 2015-04-16 10:01:38.530999899   \n",
      "\n",
      "               Last_Transaction  Average_Transaction_Amount  \\\n",
      "0 2018-10-05 05:48:02.608000040                     1467681   \n",
      "1 2018-12-25 11:02:41.269999981                     1269337   \n",
      "2 2019-01-24 09:40:02.000000000                      310915   \n",
      "3 2019-01-16 13:00:03.911000013                      722632   \n",
      "4 2018-11-22 12:53:41.529999970                     1775036   \n",
      "\n",
      "   Count_Transaction is_churn  \n",
      "0                 22    False  \n",
      "1                 41    False  \n",
      "2                 30    False  \n",
      "3                 27    False  \n",
      "4                 25    False  \n"
     ]
    }
   ],
   "source": [
    "# Hapus kolom-kolom yang tidak diperlukan\n",
    "del df['no']\n",
    "del df['Row_Num']\n",
    "\n",
    "# Cetak lima data teratas\n",
    "print(df.head())"
   ]
  },
  {
   "cell_type": "markdown",
   "metadata": {},
   "source": [
    "# Feature Columns dan Target"
   ]
  },
  {
   "cell_type": "code",
   "execution_count": 5,
   "metadata": {},
   "outputs": [],
   "source": [
    "# Kolom tahun transaksi pertama\n",
    "df['Year_First_Transaction'] = (df['First_Transaction'].dt.hour - df['First_Transaction'].dt.hour)\n",
    "# Kolom tahun transaksi terakhir\n",
    "df['Year_Last_Transaction'] = (df['Last_Transaction'].dt.minute - df['Last_Transaction'].dt.minute)\n",
    "\n",
    "# Feature column: Year_Diff\n",
    "df['Year_First_Transaction'] = round(df['Year_First_Transaction']/60, 2)\n",
    "df['Year_Diff'] = df['Year_Last_Transaction'].astype(float) + df['Year_First_Transaction']\n",
    "\n",
    "# Nama-nama feature columns\n",
    "feature_columns = ['Average_Transaction_Amount', 'Count_Transaction', 'Year_Diff']\n",
    "\n",
    "# Features variable\n",
    "X = df[feature_columns] \n",
    "\n",
    "# Target variable\n",
    "y = df['is_churn']\n",
    "y = y.astype('int')"
   ]
  },
  {
   "cell_type": "markdown",
   "metadata": {},
   "source": [
    "# Split X dan y ke dalam bagian training dan testing"
   ]
  },
  {
   "cell_type": "code",
   "execution_count": 6,
   "metadata": {},
   "outputs": [],
   "source": [
    "from sklearn.model_selection import train_test_split\n",
    "x_train, x_test, y_train, y_test = train_test_split(X, y, test_size=0.25, random_state=0)"
   ]
  },
  {
   "cell_type": "markdown",
   "metadata": {},
   "source": [
    "# Train, predict dan evaluate"
   ]
  },
  {
   "cell_type": "code",
   "execution_count": 7,
   "metadata": {},
   "outputs": [
    {
     "name": "stdout",
     "output_type": "stream",
     "text": [
      "Confusion Matrix:\n",
      " [[    1  8330]\n",
      " [    3 16666]]\n"
     ]
    }
   ],
   "source": [
    "from sklearn.linear_model import LogisticRegression\n",
    "from sklearn.metrics import confusion_matrix\n",
    "\n",
    "# Inisiasi model logreg\n",
    "logreg = LogisticRegression()\n",
    "\n",
    "# fit the model with data\n",
    "logreg.fit(x_train, y_train)\n",
    "\n",
    "# Predict model\n",
    "y_pred=logreg.predict(x_test)\n",
    "\n",
    "# Evaluasi model menggunakan confusion matrix\n",
    "cnf_matrix = confusion_matrix(y_test, y_pred)\n",
    "print('Confusion Matrix:\\n', cnf_matrix)"
   ]
  },
  {
   "cell_type": "markdown",
   "metadata": {},
   "source": [
    "# Confusion Matrix"
   ]
  },
  {
   "cell_type": "code",
   "execution_count": 8,
   "metadata": {},
   "outputs": [
    {
     "data": {
      "text/plain": [
       "<Figure size 432x288 with 0 Axes>"
      ]
     },
     "metadata": {},
     "output_type": "display_data"
    },
    {
     "data": {
      "image/png": "[encoded data removed]",
      "text/plain": [
       "<Figure size 432x288 with 2 Axes>"
      ]
     },
     "metadata": {
      "needs_background": "light"
     },
     "output_type": "display_data"
    }
   ],
   "source": [
    "# import required modules\n",
    "import numpy as np\n",
    "import matplotlib.pyplot as plt\n",
    "import seaborn as sns\n",
    "\n",
    "plt.clf()\n",
    "# name  of classes\n",
    "class_names = [0, 1] \n",
    "fig, ax = plt.subplots()\n",
    "\n",
    "tick_marks = np.arange(len(class_names))\n",
    "plt.xticks(tick_marks, class_names)\n",
    "plt.yticks(tick_marks, class_names)\n",
    "\n",
    "# create heatmap\n",
    "sns.heatmap(pd.DataFrame(cnf_matrix), annot=True, cmap='YlGnBu', fmt='g')\n",
    "ax.xaxis.set_label_position('top')\n",
    "plt.title('Confusion matrix', y=1.1)\n",
    "plt.ylabel('Actual')\n",
    "plt.xlabel('Predicted')\n",
    "plt.tight_layout()\n",
    "plt.show()"
   ]
  },
  {
   "cell_type": "markdown",
   "metadata": {},
   "source": [
    "# Accuracy, Precision, dan Recall"
   ]
  },
  {
   "cell_type": "code",
   "execution_count": 9,
   "metadata": {},
   "outputs": [
    {
     "name": "stdout",
     "output_type": "stream",
     "text": [
      "Accuracy : 0.66668\n",
      "Precision: 0.66668\n",
      "Recall   : 0.66668\n"
     ]
    }
   ],
   "source": [
    "from sklearn.metrics import accuracy_score, precision_score, recall_score\n",
    "\n",
    "#Menghitung Accuracy, Precision, dan Recall\n",
    "print('Accuracy :', accuracy_score(y_test, y_pred))\n",
    "print('Precision:', precision_score(y_test, y_pred, average='micro'))\n",
    "print('Recall   :', recall_score(y_test, y_pred, average='micro'))"
   ]
  },
  {
   "cell_type": "markdown",
   "metadata": {},
   "source": [
    "# Terima Kasih :)"
   ]
  }
 ],
 "metadata": {
  "kernelspec": {
   "display_name": "Python 3",
   "language": "python",
   "name": "python3"
  },
  "language_info": {
   "codemirror_mode": {
    "name": "ipython",
    "version": 3
   },
   "file_extension": ".py",
   "mimetype": "text/x-python",
   "name": "python",
   "nbconvert_exporter": "python",
   "pygments_lexer": "ipython3",
   "version": "3.7.6"
  }
 },
 "nbformat": 4,
 "nbformat_minor": 4
}
